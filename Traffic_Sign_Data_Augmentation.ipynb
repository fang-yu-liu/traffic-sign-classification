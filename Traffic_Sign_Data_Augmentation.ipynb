{
 "cells": [
  {
   "cell_type": "markdown",
   "metadata": {},
   "source": [
    "### Data augmentation"
   ]
  },
  {
   "cell_type": "markdown",
   "metadata": {},
   "source": [
    "TODO: description for data augmentation"
   ]
  },
  {
   "cell_type": "code",
   "execution_count": 1,
   "metadata": {
    "collapsed": true
   },
   "outputs": [],
   "source": [
    "# Imports\n",
    "import pickle\n",
    "import numpy as np\n",
    "import matplotlib.pyplot as plt\n",
    "import cv2\n",
    "import time"
   ]
  },
  {
   "cell_type": "code",
   "execution_count": 2,
   "metadata": {},
   "outputs": [
    {
     "name": "stdout",
     "output_type": "stream",
     "text": [
      "===== DATA SUMMARY BEFORE AUGMENTATION =====\n",
      "\n",
      "Number of training examples = 68799\n",
      "Number of classes = 43\n",
      "\n"
     ]
    }
   ],
   "source": [
    "# training_file = \"./traffic-signs-data/train.p\"\n",
    "training_file = \"./traffic-signs-data/train_aug.p\"\n",
    "\n",
    "with open(training_file, mode='rb') as f:\n",
    "    train = pickle.load(f)\n",
    "X_train_init, y_train_init = train['features'], train['labels']\n",
    "n_train_init = len(X_train_init)\n",
    "n_classes_init = len(np.unique(y_train_init))\n",
    "\n",
    "print(\"===== DATA SUMMARY BEFORE AUGMENTATION =====\")\n",
    "print()\n",
    "print(\"Number of training examples = {}\".format(n_train_init))\n",
    "print(\"Number of classes = {}\".format(n_classes_init))\n",
    "print()"
   ]
  },
  {
   "cell_type": "code",
   "execution_count": 3,
   "metadata": {},
   "outputs": [
    {
     "name": "stdout",
     "output_type": "stream",
     "text": [
      "===== PARAMETERS FOR DATA AUGMENTATION =====\n",
      "\n",
      "Angle:  15\n",
      "Translation:  0.2\n",
      "Number of new images generated during augmentation 343995\n"
     ]
    }
   ],
   "source": [
    "# Parameters for transformation\n",
    "ANGLE = 15 # Max rotation angle in degrees\n",
    "TRANSLATION = 0.2 # Max translation percentage of the image's width/height\n",
    "NUM_NEW_IMAGES = n_train_init * 5 # Number of new images created from transformation\n",
    "# NUM_NEW_IMAGES = 1005\n",
    "\n",
    "print(\"===== PARAMETERS FOR DATA AUGMENTATION =====\")\n",
    "print()\n",
    "print(\"Angle: \", ANGLE)\n",
    "print(\"Translation: \", TRANSLATION)\n",
    "print(\"Number of new images generated during augmentation\", NUM_NEW_IMAGES)"
   ]
  },
  {
   "cell_type": "code",
   "execution_count": 4,
   "metadata": {
    "collapsed": true
   },
   "outputs": [],
   "source": [
    "def transform_image(image, angle, translation):\n",
    "    \"\"\"\n",
    "    Perform translation and rotation on the input image\n",
    "    \n",
    "    Input parameters:\n",
    "        * image: Input image\n",
    "        * angle: Max rotation angle in degrees. The performed rotation angle will be between (-angle, angle)\n",
    "        * translation: Max translation percentage of the image height and width. \n",
    "    Output:\n",
    "        * Transformed image\n",
    "    \"\"\"\n",
    "    \n",
    "    # Make a copy of the input image\n",
    "    image_copy = np.copy(image)\n",
    "    rows, columns, channels = image_copy.shape;\n",
    "    \n",
    "    # Translation\n",
    "    x_t_rand = translation * columns * np.random.uniform(-1, 1)\n",
    "    y_t_rand = translation * rows * np.random.uniform(-1, 1)\n",
    "    translation_M = np.array([[1, 0, x_t_rand], [0, 1, y_t_rand]])\n",
    "    image_copy = cv2.warpAffine(image_copy, translation_M, (columns, rows))\n",
    "    \n",
    "    # Rotation\n",
    "    center = (columns//2, rows//2)\n",
    "    angle_rand = np.random.uniform(-angle, angle)\n",
    "    rotation_M = cv2.getRotationMatrix2D(center, angle_rand, 1)\n",
    "    image_copy = cv2.warpAffine(image_copy, rotation_M, (columns, rows))\n",
    "    \n",
    "    return image_copy"
   ]
  },
  {
   "cell_type": "code",
   "execution_count": 5,
   "metadata": {},
   "outputs": [
    {
     "name": "stdout",
     "output_type": "stream",
     "text": [
      "===== TRANSFORMED DATA VISUALIZATION =====\n"
     ]
    },
    {
     "data": {
      "image/png": "[encoded data removed]",
      "text/plain": [
       "<matplotlib.figure.Figure at 0x7f52eb27deb8>"
      ]
     },
     "metadata": {},
     "output_type": "display_data"
    }
   ],
   "source": [
    "%matplotlib inline\n",
    "\n",
    "# Visualization of the transformed image\n",
    "\n",
    "print(\"===== TRANSFORMED DATA VISUALIZATION =====\")\n",
    "\n",
    "index = np.random.randint(0, len(X_train_init))\n",
    "image = X_train_init[index].squeeze()\n",
    "plt.subplot(1, 2, 1)\n",
    "plt.imshow(image)\n",
    "plt.title(\"Image before transformation\")\n",
    "\n",
    "image_transform = transform_image(image, ANGLE, TRANSLATION)\n",
    "plt.subplot(1, 2, 2)\n",
    "plt.imshow(image_transform)\n",
    "plt.title(\"Image after transformation\")\n",
    "plt.subplots_adjust(wspace=0.5, hspace=0.5)"
   ]
  },
  {
   "cell_type": "code",
   "execution_count": 8,
   "metadata": {},
   "outputs": [],
   "source": [
    "def data_augmentation(X, y, n):\n",
    "    \n",
    "    \"\"\"\n",
    "    Perform augmentation on the input data\n",
    "    Augmented data will be saved to file after each 1000 iteration\n",
    "    \n",
    "    Input parameters:\n",
    "        * X: Image data\n",
    "        * y: Labels\n",
    "        * n: number of images created from transformation\n",
    "    \"\"\"\n",
    "    \n",
    "    new_X = np.copy(X)\n",
    "    new_y = np.copy(y)\n",
    "    \n",
    "    # Record time elapsed for the data augmentation\n",
    "    start_time = time.time()\n",
    "    last_time = time.time()\n",
    "    \n",
    "    for i in range(n):\n",
    "        index = np.random.randint(0, len(X))\n",
    "        image = X[index]\n",
    "        image_transformed = transform_image(image, ANGLE, TRANSLATION)\n",
    "        image_transformed = np.expand_dims(image_transformed, axis=0)\n",
    "        new_X = np.append(new_X, image_transformed, axis=0)\n",
    "        new_y = np.append(new_y, y[index])\n",
    "        \n",
    "        if (i+1) % 1000 == 0 or i == 0 or (i+1) == n:\n",
    "            aug_data_file = \"./traffic-signs-data/train_aug.p\"\n",
    "            aug_data = {'features': new_X, 'labels': new_y}\n",
    "            print(\"Saving to file --> \", aug_data_file)\n",
    "            with open(aug_data_file, mode='wb') as f:\n",
    "                pickle.dump(aug_data, f)\n",
    "            print(\"Number of data %d -- Elapsed time %.2f sec\" % (len(new_X), time.time() - last_time))\n",
    "            last_time = time.time()\n",
    "            \n",
    "    total_time = time.time() - start_time\n",
    "    print('Total elapsed time: %.2f sec' % (total_time))"
   ]
  },
  {
   "cell_type": "code",
   "execution_count": null,
   "metadata": {},
   "outputs": [
    {
     "name": "stdout",
     "output_type": "stream",
     "text": [
      "Saving to file -->  ./traffic-signs-data/train_aug.p\n",
      "Number of data 68800 -- Elapsed time 1.29 sec\n",
      "Saving to file -->  ./traffic-signs-data/train_aug.p\n",
      "Number of data 69799 -- Elapsed time 104.81 sec\n",
      "Saving to file -->  ./traffic-signs-data/train_aug.p\n",
      "Number of data 70799 -- Elapsed time 112.21 sec\n",
      "Saving to file -->  ./traffic-signs-data/train_aug.p\n",
      "Number of data 71799 -- Elapsed time 105.93 sec\n",
      "Saving to file -->  ./traffic-signs-data/train_aug.p\n",
      "Number of data 72799 -- Elapsed time 107.79 sec\n",
      "Saving to file -->  ./traffic-signs-data/train_aug.p\n",
      "Number of data 73799 -- Elapsed time 110.38 sec\n",
      "Saving to file -->  ./traffic-signs-data/train_aug.p\n",
      "Number of data 74799 -- Elapsed time 108.90 sec\n",
      "Saving to file -->  ./traffic-signs-data/train_aug.p\n",
      "Number of data 75799 -- Elapsed time 109.71 sec\n",
      "Saving to file -->  ./traffic-signs-data/train_aug.p\n",
      "Number of data 76799 -- Elapsed time 105.55 sec\n",
      "Saving to file -->  ./traffic-signs-data/train_aug.p\n",
      "Number of data 77799 -- Elapsed time 107.05 sec\n",
      "Saving to file -->  ./traffic-signs-data/train_aug.p\n",
      "Number of data 78799 -- Elapsed time 108.67 sec\n",
      "Saving to file -->  ./traffic-signs-data/train_aug.p\n",
      "Number of data 79799 -- Elapsed time 111.15 sec\n",
      "Saving to file -->  ./traffic-signs-data/train_aug.p\n",
      "Number of data 80799 -- Elapsed time 111.00 sec\n",
      "Saving to file -->  ./traffic-signs-data/train_aug.p\n",
      "Number of data 81799 -- Elapsed time 114.85 sec\n",
      "Saving to file -->  ./traffic-signs-data/train_aug.p\n",
      "Number of data 82799 -- Elapsed time 114.65 sec\n",
      "Saving to file -->  ./traffic-signs-data/train_aug.p\n",
      "Number of data 83799 -- Elapsed time 117.43 sec\n",
      "Saving to file -->  ./traffic-signs-data/train_aug.p\n",
      "Number of data 84799 -- Elapsed time 117.51 sec\n",
      "Saving to file -->  ./traffic-signs-data/train_aug.p\n",
      "Number of data 85799 -- Elapsed time 118.23 sec\n",
      "Saving to file -->  ./traffic-signs-data/train_aug.p\n",
      "Number of data 86799 -- Elapsed time 118.39 sec\n",
      "Saving to file -->  ./traffic-signs-data/train_aug.p\n",
      "Number of data 87799 -- Elapsed time 121.33 sec\n",
      "Saving to file -->  ./traffic-signs-data/train_aug.p\n",
      "Number of data 88799 -- Elapsed time 123.09 sec\n",
      "Saving to file -->  ./traffic-signs-data/train_aug.p\n",
      "Number of data 89799 -- Elapsed time 123.78 sec\n",
      "Saving to file -->  ./traffic-signs-data/train_aug.p\n",
      "Number of data 90799 -- Elapsed time 126.08 sec\n",
      "Saving to file -->  ./traffic-signs-data/train_aug.p\n",
      "Number of data 91799 -- Elapsed time 126.91 sec\n",
      "Saving to file -->  ./traffic-signs-data/train_aug.p\n",
      "Number of data 92799 -- Elapsed time 128.27 sec\n",
      "Saving to file -->  ./traffic-signs-data/train_aug.p\n",
      "Number of data 93799 -- Elapsed time 129.93 sec\n",
      "Saving to file -->  ./traffic-signs-data/train_aug.p\n",
      "Number of data 94799 -- Elapsed time 130.35 sec\n",
      "Saving to file -->  ./traffic-signs-data/train_aug.p\n",
      "Number of data 95799 -- Elapsed time 132.03 sec\n",
      "Saving to file -->  ./traffic-signs-data/train_aug.p\n",
      "Number of data 96799 -- Elapsed time 135.05 sec\n",
      "Saving to file -->  ./traffic-signs-data/train_aug.p\n",
      "Number of data 97799 -- Elapsed time 137.82 sec\n",
      "Saving to file -->  ./traffic-signs-data/train_aug.p\n",
      "Number of data 98799 -- Elapsed time 136.78 sec\n",
      "Saving to file -->  ./traffic-signs-data/train_aug.p\n",
      "Number of data 99799 -- Elapsed time 137.57 sec\n",
      "Saving to file -->  ./traffic-signs-data/train_aug.p\n",
      "Number of data 100799 -- Elapsed time 137.18 sec\n",
      "Saving to file -->  ./traffic-signs-data/train_aug.p\n",
      "Number of data 101799 -- Elapsed time 139.05 sec\n",
      "Saving to file -->  ./traffic-signs-data/train_aug.p\n",
      "Number of data 102799 -- Elapsed time 140.23 sec\n",
      "Saving to file -->  ./traffic-signs-data/train_aug.p\n",
      "Number of data 103799 -- Elapsed time 142.38 sec\n",
      "Saving to file -->  ./traffic-signs-data/train_aug.p\n",
      "Number of data 104799 -- Elapsed time 143.17 sec\n",
      "Saving to file -->  ./traffic-signs-data/train_aug.p\n",
      "Number of data 105799 -- Elapsed time 143.51 sec\n",
      "Saving to file -->  ./traffic-signs-data/train_aug.p\n",
      "Number of data 106799 -- Elapsed time 146.09 sec\n",
      "Saving to file -->  ./traffic-signs-data/train_aug.p\n",
      "Number of data 107799 -- Elapsed time 147.70 sec\n",
      "Saving to file -->  ./traffic-signs-data/train_aug.p\n",
      "Number of data 108799 -- Elapsed time 148.83 sec\n",
      "Saving to file -->  ./traffic-signs-data/train_aug.p\n",
      "Number of data 109799 -- Elapsed time 151.04 sec\n",
      "Saving to file -->  ./traffic-signs-data/train_aug.p\n",
      "Number of data 110799 -- Elapsed time 152.50 sec\n",
      "Saving to file -->  ./traffic-signs-data/train_aug.p\n",
      "Number of data 111799 -- Elapsed time 153.07 sec\n",
      "Saving to file -->  ./traffic-signs-data/train_aug.p\n",
      "Number of data 112799 -- Elapsed time 155.07 sec\n",
      "Saving to file -->  ./traffic-signs-data/train_aug.p\n",
      "Number of data 113799 -- Elapsed time 155.95 sec\n",
      "Saving to file -->  ./traffic-signs-data/train_aug.p\n",
      "Number of data 114799 -- Elapsed time 157.18 sec\n",
      "Saving to file -->  ./traffic-signs-data/train_aug.p\n",
      "Number of data 115799 -- Elapsed time 157.67 sec\n",
      "Saving to file -->  ./traffic-signs-data/train_aug.p\n",
      "Number of data 116799 -- Elapsed time 158.70 sec\n",
      "Saving to file -->  ./traffic-signs-data/train_aug.p\n",
      "Number of data 117799 -- Elapsed time 160.08 sec\n",
      "Saving to file -->  ./traffic-signs-data/train_aug.p\n",
      "Number of data 118799 -- Elapsed time 161.56 sec\n",
      "Saving to file -->  ./traffic-signs-data/train_aug.p\n",
      "Number of data 121799 -- Elapsed time 166.08 sec\n",
      "Saving to file -->  ./traffic-signs-data/train_aug.p\n",
      "Number of data 122799 -- Elapsed time 168.70 sec\n",
      "Saving to file -->  ./traffic-signs-data/train_aug.p\n",
      "Number of data 123799 -- Elapsed time 170.54 sec\n",
      "Saving to file -->  ./traffic-signs-data/train_aug.p\n",
      "Number of data 124799 -- Elapsed time 170.66 sec\n",
      "Saving to file -->  ./traffic-signs-data/train_aug.p\n",
      "Number of data 125799 -- Elapsed time 171.79 sec\n",
      "Saving to file -->  ./traffic-signs-data/train_aug.p\n",
      "Number of data 126799 -- Elapsed time 172.80 sec\n",
      "Saving to file -->  ./traffic-signs-data/train_aug.p\n",
      "Number of data 127799 -- Elapsed time 172.87 sec\n",
      "Saving to file -->  ./traffic-signs-data/train_aug.p\n",
      "Number of data 128799 -- Elapsed time 174.51 sec\n",
      "Saving to file -->  ./traffic-signs-data/train_aug.p\n",
      "Number of data 129799 -- Elapsed time 176.48 sec\n",
      "Saving to file -->  ./traffic-signs-data/train_aug.p\n",
      "Number of data 130799 -- Elapsed time 177.51 sec\n",
      "Saving to file -->  ./traffic-signs-data/train_aug.p\n",
      "Number of data 131799 -- Elapsed time 178.35 sec\n",
      "Saving to file -->  ./traffic-signs-data/train_aug.p\n",
      "Number of data 132799 -- Elapsed time 179.01 sec\n",
      "Saving to file -->  ./traffic-signs-data/train_aug.p\n",
      "Number of data 133799 -- Elapsed time 180.82 sec\n",
      "Saving to file -->  ./traffic-signs-data/train_aug.p\n",
      "Number of data 134799 -- Elapsed time 181.24 sec\n",
      "Saving to file -->  ./traffic-signs-data/train_aug.p\n",
      "Number of data 135799 -- Elapsed time 183.97 sec\n",
      "Saving to file -->  ./traffic-signs-data/train_aug.p\n",
      "Number of data 136799 -- Elapsed time 182.20 sec\n",
      "Saving to file -->  ./traffic-signs-data/train_aug.p\n",
      "Number of data 137799 -- Elapsed time 185.01 sec\n",
      "Saving to file -->  ./traffic-signs-data/train_aug.p\n",
      "Number of data 138799 -- Elapsed time 186.28 sec\n",
      "Saving to file -->  ./traffic-signs-data/train_aug.p\n",
      "Number of data 139799 -- Elapsed time 187.53 sec\n"
     ]
    }
   ],
   "source": [
    "data_augmentation(X_train_init, y_train_init, NUM_NEW_IMAGES)"
   ]
  },
  {
   "cell_type": "code",
   "execution_count": null,
   "metadata": {},
   "outputs": [],
   "source": [
    "training_file_aug = \"./traffic-signs-data/train_aug.p\"\n",
    "with open(training_file_aug, mode='rb') as f:\n",
    "    train = pickle.load(f)\n",
    "X_train_aug, y_train_aug = train['features'], train['labels']\n",
    "n_train_aug = len(X_train_aug)\n",
    "n_classes_aug = len(np.unique(y_train_aug))\n",
    "\n",
    "print(\"===== DATA SUMMARY BEFORE AUGMENTATION =====\")\n",
    "print()\n",
    "print(\"Number of training examples = {}\".format(n_train_aug))\n",
    "print(\"Number of classes = {}\".format(n_classes_aug))\n",
    "print()"
   ]
  },
  {
   "cell_type": "code",
   "execution_count": null,
   "metadata": {
    "collapsed": true
   },
   "outputs": [],
   "source": [
    "# Histogram for label distribution in training data\n",
    "plt.subplots(1,2,1)\n",
    "plt.hist(y_train_init, bins=n_classes, rwidth=0.8)\n",
    "plt.title('Training data (size {}) class distribution before augmentation'.format(len(y_train_init))\n",
    "plt.xlabel('Class Id')\n",
    "plt.ylabel('Frequency');\n",
    "\n",
    "plt.subplots(1,2,2)\n",
    "plt.hist(y_train_aug, bins=n_classes, rwidth=0.8)\n",
    "plt.title('Training data (size {}) class distribution after augmentation'.format(len(y_train_aug))\n",
    "plt.xlabel('Class Id')\n",
    "plt.ylabel('Frequency');\n",
    "plt.show()"
   ]
  }
 ],
 "metadata": {
  "kernelspec": {
   "display_name": "Python 3",
   "language": "python",
   "name": "python3"
  },
  "language_info": {
   "codemirror_mode": {
    "name": "ipython",
    "version": 3
   },
   "file_extension": ".py",
   "mimetype": "text/x-python",
   "name": "python",
   "nbconvert_exporter": "python",
   "pygments_lexer": "ipython3",
   "version": "3.5.2"
  },
  "widgets": {
   "state": {},
   "version": "1.1.2"
  }
 },
 "nbformat": 4,
 "nbformat_minor": 2
}
